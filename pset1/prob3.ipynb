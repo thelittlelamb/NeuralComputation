{
 "cells": [
  {
   "cell_type": "markdown",
   "metadata": {},
   "source": [
    "## Problem 3: Nernst Potential"
   ]
  },
  {
   "cell_type": "code",
   "execution_count": 1,
   "metadata": {},
   "outputs": [],
   "source": [
    "import math"
   ]
  },
  {
   "cell_type": "code",
   "execution_count": 11,
   "metadata": {},
   "outputs": [],
   "source": [
    "def NernstPotential(Cin, Cout, z, T):\n",
    "    \"\"\"\n",
    "    NERNSTPOTENTIAL: Computes Nernst potential at specified T in celsius\n",
    "    Input:\n",
    "    Cin: internal ionic concteration\n",
    "    Cout: external ionic concentation\n",
    "    z: ion valence 原子价\n",
    "    T: temperature in degres Celsius\n",
    "    Output:\n",
    "    E: Nernst potential in mV\n",
    "    \"\"\"\n",
    "    k = 1.38 * 10E-23  # boltzmann constant in J/K\n",
    "    q = 1.6 * 10E-19   # charge of a monovalent ion in C\n",
    "    E =  (k * (T + 273.15) / (z * q)) * math.log(Cout / Cin) * 1000\n",
    "    # print(k * (37 + 273.15) / (z * q))\n",
    "    return E"
   ]
  },
  {
   "cell_type": "code",
   "execution_count": 13,
   "metadata": {},
   "outputs": [
    {
     "name": "stdout",
     "output_type": "stream",
     "text": [
      "-97.82984771233842\n",
      "-262.4840341011859\n"
     ]
    }
   ],
   "source": [
    "NestK = NernstPotential(186, 4.8, 1, 37)\n",
    "NestCa = NernstPotential(5 * 10E7, 1.5, 2, 37) # 这个钙离子细胞内外浓度有点奇怪\n",
    "print(NestK)\n",
    "print(NestCa)"
   ]
  }
 ],
 "metadata": {
  "kernelspec": {
   "display_name": "Python 3.6.13 ('dip')",
   "language": "python",
   "name": "python3"
  },
  "language_info": {
   "codemirror_mode": {
    "name": "ipython",
    "version": 3
   },
   "file_extension": ".py",
   "mimetype": "text/x-python",
   "name": "python",
   "nbconvert_exporter": "python",
   "pygments_lexer": "ipython3",
   "version": "3.6.13"
  },
  "orig_nbformat": 4,
  "vscode": {
   "interpreter": {
    "hash": "58c897eb0cf002b8c53f6a00df8d121b672b5cf19ff720bd9f6ccb7d30e1c6fb"
   }
  }
 },
 "nbformat": 4,
 "nbformat_minor": 2
}
