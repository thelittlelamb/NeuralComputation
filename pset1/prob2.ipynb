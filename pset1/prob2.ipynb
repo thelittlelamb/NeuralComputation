{
 "cells": [
  {
   "cell_type": "markdown",
   "metadata": {},
   "source": [
    "## Problem 2: Equivlent circuit model"
   ]
  },
  {
   "cell_type": "code",
   "execution_count": 7,
   "metadata": {},
   "outputs": [],
   "source": [
    "import math\n",
    "import numpy as np\n",
    "import matplotlib.pyplot as plt"
   ]
  },
  {
   "cell_type": "code",
   "execution_count": 61,
   "metadata": {},
   "outputs": [],
   "source": [
    "## Cell Parameters\n",
    "r = 0.06                #radius in mm\n",
    "c_m = 10                #specific membrane capacitance in nF/mm^2\n",
    "g_m = 1                 #miuS/mm^2\n",
    "A = 4 * math.pi * r * r #area of cell\n",
    "C_m = A * c_m           #Capacitance in nF\n",
    "G_m = A * g_m\n",
    "R = 1 / G_m             #Resistance in MegaOhm\n",
    "V_rest = -70             #Leakage current reversal potential in mV\n",
    "tau = R * C_m  #C_m / G_m"
   ]
  },
  {
   "cell_type": "code",
   "execution_count": 57,
   "metadata": {},
   "outputs": [
    {
     "data": {
      "image/png": "[encoded data removed]",
      "text/plain": [
       "<Figure size 432x288 with 1 Axes>"
      ]
     },
     "metadata": {
      "needs_background": "light"
     },
     "output_type": "display_data"
    }
   ],
   "source": [
    "## Integration parameters\n",
    "dt = 0.1          \t\t#integration time-step in ms\n",
    "Tdur = 1000       \t\t#simulation total time in ms\n",
    "V_0 = V_rest            #initial condition in mV\n",
    "k = math.ceil(Tdur/dt)  #total number of iterations\n",
    "V = np.zeros(k);  \t\t#Voltage vector in mV\n",
    "V[0] = V_0       \t\t#assign to the first element of array V, the initial condition V0\n",
    "\n",
    "##time vector\n",
    "t = np.arange(0, Tdur, step=dt)\n",
    "\n",
    "##Current pulse parameters    \n",
    "Tstart = 100            #curent pulse start time in ms\n",
    "Tstop = 200         \t#curent pulse stop time in ms\n",
    "Iamplitude = 0.1     \t#current pulse amplitude in nA\n",
    "\n",
    "I = np.zeros(k) \t\t#current vector in nA\n",
    "I[(Tstart - 1) * 10: Tstop * 10]= Iamplitude #Assign amplitude when current is on \n",
    "plt.plot(t, I)\n",
    "plt.title(\"I Vs Time\")\n",
    "plt.ylabel(\"I(nA)\")\n",
    "plt.xlabel(\"Time(ms)\")\n",
    "plt.show()"
   ]
  },
  {
   "cell_type": "markdown",
   "metadata": {},
   "source": [
    "#### Integration with Exponential Euler loop"
   ]
  },
  {
   "cell_type": "code",
   "execution_count": 62,
   "metadata": {},
   "outputs": [
    {
     "name": "stdout",
     "output_type": "stream",
     "text": [
      "9.999999999999998\n"
     ]
    },
    {
     "data": {
      "image/png": "[encoded data removed]",
      "text/plain": [
       "<Figure size 432x288 with 1 Axes>"
      ]
     },
     "metadata": {
      "needs_background": "light"
     },
     "output_type": "display_data"
    }
   ],
   "source": [
    "tau = R * C_m\n",
    "## The change of tau\n",
    "## if the tau is too small, square signal, change too fast\n",
    "for i in range(k - 1):\n",
    "    Vinf = V_rest + R * I[i]   #Update V infinity value at j iteration\n",
    "    # 这里为什么要加上V_rest    \n",
    "    #Compute V at iteration j+1 with Exponential Euler rule\n",
    "    #print(\"time = {}, exponential = {}\".format(i / 10, t[i] - t[i + 1] / (R * C)))   \n",
    "    V[i + 1] = Vinf + (V[i] - Vinf) * math.exp((t[i] - t[i + 1]) / tau) \t\n",
    "    \n",
    "plt.figure(2)\n",
    "plt.plot(t, V)\n",
    "plt.title(\"Voltage Vs Time\")\n",
    "plt.ylabel(\"Voltage\")\n",
    "plt.xlabel(\"Time\")\n",
    "plt.show()\t   "
   ]
  }
 ],
 "metadata": {
  "kernelspec": {
   "display_name": "Python 3.6.13 ('dip')",
   "language": "python",
   "name": "python3"
  },
  "language_info": {
   "codemirror_mode": {
    "name": "ipython",
    "version": 3
   },
   "file_extension": ".py",
   "mimetype": "text/x-python",
   "name": "python",
   "nbconvert_exporter": "python",
   "pygments_lexer": "ipython3",
   "version": "3.6.13"
  },
  "orig_nbformat": 4,
  "vscode": {
   "interpreter": {
    "hash": "58c897eb0cf002b8c53f6a00df8d121b672b5cf19ff720bd9f6ccb7d30e1c6fb"
   }
  }
 },
 "nbformat": 4,
 "nbformat_minor": 2
}
